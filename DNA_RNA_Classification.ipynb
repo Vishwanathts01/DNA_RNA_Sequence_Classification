{
  "nbformat": 4,
  "nbformat_minor": 0,
  "metadata": {
    "kernelspec": {
      "display_name": "Python 3",
      "language": "python",
      "name": "python3"
    },
    "language_info": {
      "codemirror_mode": {
        "name": "ipython",
        "version": 3
      },
      "file_extension": ".py",
      "mimetype": "text/x-python",
      "name": "python",
      "nbconvert_exporter": "python",
      "pygments_lexer": "ipython3",
      "version": "3.6.5"
    },
    "colab": {
      "name": "DNA_RNA_Classification.ipynb",
      "provenance": []
    },
    "accelerator": "GPU"
  },
  "cells": [
    {
      "cell_type": "markdown",
      "metadata": {
        "id": "UwO0tg_66sHM"
      },
      "source": [
        "##Imports"
      ]
    },
    {
      "cell_type": "code",
      "metadata": {
        "id": "g0KzkDjk6olk"
      },
      "source": [
        "import numpy as np\n",
        "import pandas as pd"
      ],
      "execution_count": 1,
      "outputs": []
    },
    {
      "cell_type": "markdown",
      "metadata": {
        "id": "v-WSDdEn6jcj"
      },
      "source": [
        "##Loading Data"
      ]
    },
    {
      "cell_type": "code",
      "metadata": {
        "id": "qR2nvIR8lamA"
      },
      "source": [
        "data = pd.read_csv(\"https://raw.githubusercontent.com/sajit9285/DNA-Classification-Project/master/promoters.data\")"
      ],
      "execution_count": 2,
      "outputs": []
    },
    {
      "cell_type": "code",
      "metadata": {
        "id": "Y1fM_TLClamH"
      },
      "source": [
        "data.columns = [\"class\", \"id\", \"sequence\"]"
      ],
      "execution_count": 3,
      "outputs": []
    },
    {
      "cell_type": "code",
      "metadata": {
        "id": "JKAaCVpLlamO",
        "outputId": "0dbf735d-13bf-4ee7-acde-0fa3b4767dc1",
        "colab": {
          "base_uri": "https://localhost:8080/",
          "height": 195
        }
      },
      "source": [
        "data.head()"
      ],
      "execution_count": 4,
      "outputs": [
        {
          "output_type": "execute_result",
          "data": {
            "text/html": [
              "<div>\n",
              "<style scoped>\n",
              "    .dataframe tbody tr th:only-of-type {\n",
              "        vertical-align: middle;\n",
              "    }\n",
              "\n",
              "    .dataframe tbody tr th {\n",
              "        vertical-align: top;\n",
              "    }\n",
              "\n",
              "    .dataframe thead th {\n",
              "        text-align: right;\n",
              "    }\n",
              "</style>\n",
              "<table border=\"1\" class=\"dataframe\">\n",
              "  <thead>\n",
              "    <tr style=\"text-align: right;\">\n",
              "      <th></th>\n",
              "      <th>class</th>\n",
              "      <th>id</th>\n",
              "      <th>sequence</th>\n",
              "    </tr>\n",
              "  </thead>\n",
              "  <tbody>\n",
              "    <tr>\n",
              "      <th>0</th>\n",
              "      <td>+</td>\n",
              "      <td>AMPC</td>\n",
              "      <td>\\t\\ttgctatcctgacagttgtcacgctgattggtgtcgttacaat...</td>\n",
              "    </tr>\n",
              "    <tr>\n",
              "      <th>1</th>\n",
              "      <td>+</td>\n",
              "      <td>AROH</td>\n",
              "      <td>\\t\\tgtactagagaactagtgcattagcttatttttttgttatcat...</td>\n",
              "    </tr>\n",
              "    <tr>\n",
              "      <th>2</th>\n",
              "      <td>+</td>\n",
              "      <td>DEOP2</td>\n",
              "      <td>\\taattgtgatgtgtatcgaagtgtgttgcggagtagatgttagaa...</td>\n",
              "    </tr>\n",
              "    <tr>\n",
              "      <th>3</th>\n",
              "      <td>+</td>\n",
              "      <td>LEU1_TRNA</td>\n",
              "      <td>\\ttcgataattaactattgacgaaaagctgaaaaccactagaatgc...</td>\n",
              "    </tr>\n",
              "    <tr>\n",
              "      <th>4</th>\n",
              "      <td>+</td>\n",
              "      <td>MALEFG</td>\n",
              "      <td>\\taggggcaaggaggatggaaagaggttgccgtataaagaaactag...</td>\n",
              "    </tr>\n",
              "  </tbody>\n",
              "</table>\n",
              "</div>"
            ],
            "text/plain": [
              "  class         id                                           sequence\n",
              "0     +       AMPC  \\t\\ttgctatcctgacagttgtcacgctgattggtgtcgttacaat...\n",
              "1     +       AROH  \\t\\tgtactagagaactagtgcattagcttatttttttgttatcat...\n",
              "2     +      DEOP2  \\taattgtgatgtgtatcgaagtgtgttgcggagtagatgttagaa...\n",
              "3     +  LEU1_TRNA  \\ttcgataattaactattgacgaaaagctgaaaaccactagaatgc...\n",
              "4     +     MALEFG  \\taggggcaaggaggatggaaagaggttgccgtataaagaaactag..."
            ]
          },
          "metadata": {
            "tags": []
          },
          "execution_count": 4
        }
      ]
    },
    {
      "cell_type": "markdown",
      "metadata": {
        "id": "pqdg6Oh17lMa"
      },
      "source": [
        "##Preprocessing and label encoding"
      ]
    },
    {
      "cell_type": "code",
      "metadata": {
        "id": "VwY9zMyWlamd"
      },
      "source": [
        "classes = data[\"class\"].tolist()"
      ],
      "execution_count": 5,
      "outputs": []
    },
    {
      "cell_type": "code",
      "metadata": {
        "id": "7mIv91BIlamn"
      },
      "source": [
        "sequences = data[\"sequence\"].tolist()"
      ],
      "execution_count": 6,
      "outputs": []
    },
    {
      "cell_type": "code",
      "metadata": {
        "id": "rzXeKUsDlamt"
      },
      "source": [
        "encoded_classes = []\n",
        "for each in classes:\n",
        "    if each == \"+\":\n",
        "        encoded_classes.append(1)\n",
        "    else:\n",
        "        encoded_classes.append(0)\n"
      ],
      "execution_count": 7,
      "outputs": []
    },
    {
      "cell_type": "code",
      "metadata": {
        "id": "Ooh2L0NIlam2"
      },
      "source": [
        "filtered_sequences = []\n",
        "for each_sequence in sequences:\n",
        "    filtered_sequences.append([each_char for each_char in each_sequence if each_char != \"\\t\"])"
      ],
      "execution_count": 8,
      "outputs": []
    },
    {
      "cell_type": "code",
      "metadata": {
        "id": "Hk5mCLB6lam9"
      },
      "source": [
        "index = [i for i in range(len(filtered_sequences[0]))]"
      ],
      "execution_count": 9,
      "outputs": []
    },
    {
      "cell_type": "code",
      "metadata": {
        "id": "9NnJ0grZlanC"
      },
      "source": [
        "dataframe = pd.DataFrame(filtered_sequences)"
      ],
      "execution_count": 10,
      "outputs": []
    },
    {
      "cell_type": "code",
      "metadata": {
        "id": "bnKesgy5lanG"
      },
      "source": [
        "dataframe.columns =  index"
      ],
      "execution_count": 11,
      "outputs": []
    },
    {
      "cell_type": "code",
      "metadata": {
        "id": "NVuN8lyAlanL",
        "outputId": "aea5991d-74cf-4d4d-bfc3-a90e38a2cf98",
        "colab": {
          "base_uri": "https://localhost:8080/",
          "height": 215
        }
      },
      "source": [
        "dataframe.head()"
      ],
      "execution_count": 12,
      "outputs": [
        {
          "output_type": "execute_result",
          "data": {
            "text/html": [
              "<div>\n",
              "<style scoped>\n",
              "    .dataframe tbody tr th:only-of-type {\n",
              "        vertical-align: middle;\n",
              "    }\n",
              "\n",
              "    .dataframe tbody tr th {\n",
              "        vertical-align: top;\n",
              "    }\n",
              "\n",
              "    .dataframe thead th {\n",
              "        text-align: right;\n",
              "    }\n",
              "</style>\n",
              "<table border=\"1\" class=\"dataframe\">\n",
              "  <thead>\n",
              "    <tr style=\"text-align: right;\">\n",
              "      <th></th>\n",
              "      <th>0</th>\n",
              "      <th>1</th>\n",
              "      <th>2</th>\n",
              "      <th>3</th>\n",
              "      <th>4</th>\n",
              "      <th>5</th>\n",
              "      <th>6</th>\n",
              "      <th>7</th>\n",
              "      <th>8</th>\n",
              "      <th>9</th>\n",
              "      <th>10</th>\n",
              "      <th>11</th>\n",
              "      <th>12</th>\n",
              "      <th>13</th>\n",
              "      <th>14</th>\n",
              "      <th>15</th>\n",
              "      <th>16</th>\n",
              "      <th>17</th>\n",
              "      <th>18</th>\n",
              "      <th>19</th>\n",
              "      <th>20</th>\n",
              "      <th>21</th>\n",
              "      <th>22</th>\n",
              "      <th>23</th>\n",
              "      <th>24</th>\n",
              "      <th>25</th>\n",
              "      <th>26</th>\n",
              "      <th>27</th>\n",
              "      <th>28</th>\n",
              "      <th>29</th>\n",
              "      <th>30</th>\n",
              "      <th>31</th>\n",
              "      <th>32</th>\n",
              "      <th>33</th>\n",
              "      <th>34</th>\n",
              "      <th>35</th>\n",
              "      <th>36</th>\n",
              "      <th>37</th>\n",
              "      <th>38</th>\n",
              "      <th>39</th>\n",
              "      <th>40</th>\n",
              "      <th>41</th>\n",
              "      <th>42</th>\n",
              "      <th>43</th>\n",
              "      <th>44</th>\n",
              "      <th>45</th>\n",
              "      <th>46</th>\n",
              "      <th>47</th>\n",
              "      <th>48</th>\n",
              "      <th>49</th>\n",
              "      <th>50</th>\n",
              "      <th>51</th>\n",
              "      <th>52</th>\n",
              "      <th>53</th>\n",
              "      <th>54</th>\n",
              "      <th>55</th>\n",
              "      <th>56</th>\n",
              "    </tr>\n",
              "  </thead>\n",
              "  <tbody>\n",
              "    <tr>\n",
              "      <th>0</th>\n",
              "      <td>t</td>\n",
              "      <td>g</td>\n",
              "      <td>c</td>\n",
              "      <td>t</td>\n",
              "      <td>a</td>\n",
              "      <td>t</td>\n",
              "      <td>c</td>\n",
              "      <td>c</td>\n",
              "      <td>t</td>\n",
              "      <td>g</td>\n",
              "      <td>a</td>\n",
              "      <td>c</td>\n",
              "      <td>a</td>\n",
              "      <td>g</td>\n",
              "      <td>t</td>\n",
              "      <td>t</td>\n",
              "      <td>g</td>\n",
              "      <td>t</td>\n",
              "      <td>c</td>\n",
              "      <td>a</td>\n",
              "      <td>c</td>\n",
              "      <td>g</td>\n",
              "      <td>c</td>\n",
              "      <td>t</td>\n",
              "      <td>g</td>\n",
              "      <td>a</td>\n",
              "      <td>t</td>\n",
              "      <td>t</td>\n",
              "      <td>g</td>\n",
              "      <td>g</td>\n",
              "      <td>t</td>\n",
              "      <td>g</td>\n",
              "      <td>t</td>\n",
              "      <td>c</td>\n",
              "      <td>g</td>\n",
              "      <td>t</td>\n",
              "      <td>t</td>\n",
              "      <td>a</td>\n",
              "      <td>c</td>\n",
              "      <td>a</td>\n",
              "      <td>a</td>\n",
              "      <td>t</td>\n",
              "      <td>c</td>\n",
              "      <td>t</td>\n",
              "      <td>a</td>\n",
              "      <td>a</td>\n",
              "      <td>c</td>\n",
              "      <td>g</td>\n",
              "      <td>c</td>\n",
              "      <td>a</td>\n",
              "      <td>t</td>\n",
              "      <td>c</td>\n",
              "      <td>g</td>\n",
              "      <td>c</td>\n",
              "      <td>c</td>\n",
              "      <td>a</td>\n",
              "      <td>a</td>\n",
              "    </tr>\n",
              "    <tr>\n",
              "      <th>1</th>\n",
              "      <td>g</td>\n",
              "      <td>t</td>\n",
              "      <td>a</td>\n",
              "      <td>c</td>\n",
              "      <td>t</td>\n",
              "      <td>a</td>\n",
              "      <td>g</td>\n",
              "      <td>a</td>\n",
              "      <td>g</td>\n",
              "      <td>a</td>\n",
              "      <td>a</td>\n",
              "      <td>c</td>\n",
              "      <td>t</td>\n",
              "      <td>a</td>\n",
              "      <td>g</td>\n",
              "      <td>t</td>\n",
              "      <td>g</td>\n",
              "      <td>c</td>\n",
              "      <td>a</td>\n",
              "      <td>t</td>\n",
              "      <td>t</td>\n",
              "      <td>a</td>\n",
              "      <td>g</td>\n",
              "      <td>c</td>\n",
              "      <td>t</td>\n",
              "      <td>t</td>\n",
              "      <td>a</td>\n",
              "      <td>t</td>\n",
              "      <td>t</td>\n",
              "      <td>t</td>\n",
              "      <td>t</td>\n",
              "      <td>t</td>\n",
              "      <td>t</td>\n",
              "      <td>t</td>\n",
              "      <td>g</td>\n",
              "      <td>t</td>\n",
              "      <td>t</td>\n",
              "      <td>a</td>\n",
              "      <td>t</td>\n",
              "      <td>c</td>\n",
              "      <td>a</td>\n",
              "      <td>t</td>\n",
              "      <td>g</td>\n",
              "      <td>c</td>\n",
              "      <td>t</td>\n",
              "      <td>a</td>\n",
              "      <td>a</td>\n",
              "      <td>c</td>\n",
              "      <td>c</td>\n",
              "      <td>a</td>\n",
              "      <td>c</td>\n",
              "      <td>c</td>\n",
              "      <td>c</td>\n",
              "      <td>g</td>\n",
              "      <td>g</td>\n",
              "      <td>c</td>\n",
              "      <td>g</td>\n",
              "    </tr>\n",
              "    <tr>\n",
              "      <th>2</th>\n",
              "      <td>a</td>\n",
              "      <td>a</td>\n",
              "      <td>t</td>\n",
              "      <td>t</td>\n",
              "      <td>g</td>\n",
              "      <td>t</td>\n",
              "      <td>g</td>\n",
              "      <td>a</td>\n",
              "      <td>t</td>\n",
              "      <td>g</td>\n",
              "      <td>t</td>\n",
              "      <td>g</td>\n",
              "      <td>t</td>\n",
              "      <td>a</td>\n",
              "      <td>t</td>\n",
              "      <td>c</td>\n",
              "      <td>g</td>\n",
              "      <td>a</td>\n",
              "      <td>a</td>\n",
              "      <td>g</td>\n",
              "      <td>t</td>\n",
              "      <td>g</td>\n",
              "      <td>t</td>\n",
              "      <td>g</td>\n",
              "      <td>t</td>\n",
              "      <td>t</td>\n",
              "      <td>g</td>\n",
              "      <td>c</td>\n",
              "      <td>g</td>\n",
              "      <td>g</td>\n",
              "      <td>a</td>\n",
              "      <td>g</td>\n",
              "      <td>t</td>\n",
              "      <td>a</td>\n",
              "      <td>g</td>\n",
              "      <td>a</td>\n",
              "      <td>t</td>\n",
              "      <td>g</td>\n",
              "      <td>t</td>\n",
              "      <td>t</td>\n",
              "      <td>a</td>\n",
              "      <td>g</td>\n",
              "      <td>a</td>\n",
              "      <td>a</td>\n",
              "      <td>t</td>\n",
              "      <td>a</td>\n",
              "      <td>c</td>\n",
              "      <td>t</td>\n",
              "      <td>a</td>\n",
              "      <td>a</td>\n",
              "      <td>c</td>\n",
              "      <td>a</td>\n",
              "      <td>a</td>\n",
              "      <td>a</td>\n",
              "      <td>c</td>\n",
              "      <td>t</td>\n",
              "      <td>c</td>\n",
              "    </tr>\n",
              "    <tr>\n",
              "      <th>3</th>\n",
              "      <td>t</td>\n",
              "      <td>c</td>\n",
              "      <td>g</td>\n",
              "      <td>a</td>\n",
              "      <td>t</td>\n",
              "      <td>a</td>\n",
              "      <td>a</td>\n",
              "      <td>t</td>\n",
              "      <td>t</td>\n",
              "      <td>a</td>\n",
              "      <td>a</td>\n",
              "      <td>c</td>\n",
              "      <td>t</td>\n",
              "      <td>a</td>\n",
              "      <td>t</td>\n",
              "      <td>t</td>\n",
              "      <td>g</td>\n",
              "      <td>a</td>\n",
              "      <td>c</td>\n",
              "      <td>g</td>\n",
              "      <td>a</td>\n",
              "      <td>a</td>\n",
              "      <td>a</td>\n",
              "      <td>a</td>\n",
              "      <td>g</td>\n",
              "      <td>c</td>\n",
              "      <td>t</td>\n",
              "      <td>g</td>\n",
              "      <td>a</td>\n",
              "      <td>a</td>\n",
              "      <td>a</td>\n",
              "      <td>a</td>\n",
              "      <td>c</td>\n",
              "      <td>c</td>\n",
              "      <td>a</td>\n",
              "      <td>c</td>\n",
              "      <td>t</td>\n",
              "      <td>a</td>\n",
              "      <td>g</td>\n",
              "      <td>a</td>\n",
              "      <td>a</td>\n",
              "      <td>t</td>\n",
              "      <td>g</td>\n",
              "      <td>c</td>\n",
              "      <td>g</td>\n",
              "      <td>c</td>\n",
              "      <td>c</td>\n",
              "      <td>t</td>\n",
              "      <td>c</td>\n",
              "      <td>c</td>\n",
              "      <td>g</td>\n",
              "      <td>t</td>\n",
              "      <td>g</td>\n",
              "      <td>g</td>\n",
              "      <td>t</td>\n",
              "      <td>a</td>\n",
              "      <td>g</td>\n",
              "    </tr>\n",
              "    <tr>\n",
              "      <th>4</th>\n",
              "      <td>a</td>\n",
              "      <td>g</td>\n",
              "      <td>g</td>\n",
              "      <td>g</td>\n",
              "      <td>g</td>\n",
              "      <td>c</td>\n",
              "      <td>a</td>\n",
              "      <td>a</td>\n",
              "      <td>g</td>\n",
              "      <td>g</td>\n",
              "      <td>a</td>\n",
              "      <td>g</td>\n",
              "      <td>g</td>\n",
              "      <td>a</td>\n",
              "      <td>t</td>\n",
              "      <td>g</td>\n",
              "      <td>g</td>\n",
              "      <td>a</td>\n",
              "      <td>a</td>\n",
              "      <td>a</td>\n",
              "      <td>g</td>\n",
              "      <td>a</td>\n",
              "      <td>g</td>\n",
              "      <td>g</td>\n",
              "      <td>t</td>\n",
              "      <td>t</td>\n",
              "      <td>g</td>\n",
              "      <td>c</td>\n",
              "      <td>c</td>\n",
              "      <td>g</td>\n",
              "      <td>t</td>\n",
              "      <td>a</td>\n",
              "      <td>t</td>\n",
              "      <td>a</td>\n",
              "      <td>a</td>\n",
              "      <td>a</td>\n",
              "      <td>g</td>\n",
              "      <td>a</td>\n",
              "      <td>a</td>\n",
              "      <td>a</td>\n",
              "      <td>c</td>\n",
              "      <td>t</td>\n",
              "      <td>a</td>\n",
              "      <td>g</td>\n",
              "      <td>a</td>\n",
              "      <td>g</td>\n",
              "      <td>t</td>\n",
              "      <td>c</td>\n",
              "      <td>c</td>\n",
              "      <td>g</td>\n",
              "      <td>t</td>\n",
              "      <td>t</td>\n",
              "      <td>t</td>\n",
              "      <td>a</td>\n",
              "      <td>g</td>\n",
              "      <td>g</td>\n",
              "      <td>t</td>\n",
              "    </tr>\n",
              "  </tbody>\n",
              "</table>\n",
              "</div>"
            ],
            "text/plain": [
              "  0  1  2  3  4  5  6  7  8  9  10 11 12  ... 44 45 46 47 48 49 50 51 52 53 54 55 56\n",
              "0  t  g  c  t  a  t  c  c  t  g  a  c  a  ...  a  a  c  g  c  a  t  c  g  c  c  a  a\n",
              "1  g  t  a  c  t  a  g  a  g  a  a  c  t  ...  t  a  a  c  c  a  c  c  c  g  g  c  g\n",
              "2  a  a  t  t  g  t  g  a  t  g  t  g  t  ...  t  a  c  t  a  a  c  a  a  a  c  t  c\n",
              "3  t  c  g  a  t  a  a  t  t  a  a  c  t  ...  g  c  c  t  c  c  g  t  g  g  t  a  g\n",
              "4  a  g  g  g  g  c  a  a  g  g  a  g  g  ...  a  g  t  c  c  g  t  t  t  a  g  g  t\n",
              "\n",
              "[5 rows x 57 columns]"
            ]
          },
          "metadata": {
            "tags": []
          },
          "execution_count": 12
        }
      ]
    },
    {
      "cell_type": "markdown",
      "metadata": {
        "id": "lo-zSKEF73nu"
      },
      "source": [
        "##One hot encoding"
      ]
    },
    {
      "cell_type": "code",
      "metadata": {
        "id": "w4OSH1EzlanQ"
      },
      "source": [
        "encoded_df = pd.get_dummies(dataframe)\n"
      ],
      "execution_count": 13,
      "outputs": []
    },
    {
      "cell_type": "code",
      "metadata": {
        "id": "nmNxmZDDlanV",
        "outputId": "d631a6d4-46ec-4cb2-b531-056119618731",
        "colab": {
          "base_uri": "https://localhost:8080/",
          "height": 244
        }
      },
      "source": [
        "encoded_df.head()"
      ],
      "execution_count": 14,
      "outputs": [
        {
          "output_type": "execute_result",
          "data": {
            "text/html": [
              "<div>\n",
              "<style scoped>\n",
              "    .dataframe tbody tr th:only-of-type {\n",
              "        vertical-align: middle;\n",
              "    }\n",
              "\n",
              "    .dataframe tbody tr th {\n",
              "        vertical-align: top;\n",
              "    }\n",
              "\n",
              "    .dataframe thead th {\n",
              "        text-align: right;\n",
              "    }\n",
              "</style>\n",
              "<table border=\"1\" class=\"dataframe\">\n",
              "  <thead>\n",
              "    <tr style=\"text-align: right;\">\n",
              "      <th></th>\n",
              "      <th>0_a</th>\n",
              "      <th>0_c</th>\n",
              "      <th>0_g</th>\n",
              "      <th>0_t</th>\n",
              "      <th>1_a</th>\n",
              "      <th>1_c</th>\n",
              "      <th>1_g</th>\n",
              "      <th>1_t</th>\n",
              "      <th>2_a</th>\n",
              "      <th>2_c</th>\n",
              "      <th>2_g</th>\n",
              "      <th>2_t</th>\n",
              "      <th>3_a</th>\n",
              "      <th>3_c</th>\n",
              "      <th>3_g</th>\n",
              "      <th>3_t</th>\n",
              "      <th>4_a</th>\n",
              "      <th>4_c</th>\n",
              "      <th>4_g</th>\n",
              "      <th>4_t</th>\n",
              "      <th>5_a</th>\n",
              "      <th>5_c</th>\n",
              "      <th>5_g</th>\n",
              "      <th>5_t</th>\n",
              "      <th>6_a</th>\n",
              "      <th>6_c</th>\n",
              "      <th>6_g</th>\n",
              "      <th>6_t</th>\n",
              "      <th>7_a</th>\n",
              "      <th>7_c</th>\n",
              "      <th>7_g</th>\n",
              "      <th>7_t</th>\n",
              "      <th>8_a</th>\n",
              "      <th>8_c</th>\n",
              "      <th>8_g</th>\n",
              "      <th>8_t</th>\n",
              "      <th>9_a</th>\n",
              "      <th>9_c</th>\n",
              "      <th>9_g</th>\n",
              "      <th>9_t</th>\n",
              "      <th>...</th>\n",
              "      <th>47_a</th>\n",
              "      <th>47_c</th>\n",
              "      <th>47_g</th>\n",
              "      <th>47_t</th>\n",
              "      <th>48_a</th>\n",
              "      <th>48_c</th>\n",
              "      <th>48_g</th>\n",
              "      <th>48_t</th>\n",
              "      <th>49_a</th>\n",
              "      <th>49_c</th>\n",
              "      <th>49_g</th>\n",
              "      <th>49_t</th>\n",
              "      <th>50_a</th>\n",
              "      <th>50_c</th>\n",
              "      <th>50_g</th>\n",
              "      <th>50_t</th>\n",
              "      <th>51_a</th>\n",
              "      <th>51_c</th>\n",
              "      <th>51_g</th>\n",
              "      <th>51_t</th>\n",
              "      <th>52_a</th>\n",
              "      <th>52_c</th>\n",
              "      <th>52_g</th>\n",
              "      <th>52_t</th>\n",
              "      <th>53_a</th>\n",
              "      <th>53_c</th>\n",
              "      <th>53_g</th>\n",
              "      <th>53_t</th>\n",
              "      <th>54_a</th>\n",
              "      <th>54_c</th>\n",
              "      <th>54_g</th>\n",
              "      <th>54_t</th>\n",
              "      <th>55_a</th>\n",
              "      <th>55_c</th>\n",
              "      <th>55_g</th>\n",
              "      <th>55_t</th>\n",
              "      <th>56_a</th>\n",
              "      <th>56_c</th>\n",
              "      <th>56_g</th>\n",
              "      <th>56_t</th>\n",
              "    </tr>\n",
              "  </thead>\n",
              "  <tbody>\n",
              "    <tr>\n",
              "      <th>0</th>\n",
              "      <td>0</td>\n",
              "      <td>0</td>\n",
              "      <td>0</td>\n",
              "      <td>1</td>\n",
              "      <td>0</td>\n",
              "      <td>0</td>\n",
              "      <td>1</td>\n",
              "      <td>0</td>\n",
              "      <td>0</td>\n",
              "      <td>1</td>\n",
              "      <td>0</td>\n",
              "      <td>0</td>\n",
              "      <td>0</td>\n",
              "      <td>0</td>\n",
              "      <td>0</td>\n",
              "      <td>1</td>\n",
              "      <td>1</td>\n",
              "      <td>0</td>\n",
              "      <td>0</td>\n",
              "      <td>0</td>\n",
              "      <td>0</td>\n",
              "      <td>0</td>\n",
              "      <td>0</td>\n",
              "      <td>1</td>\n",
              "      <td>0</td>\n",
              "      <td>1</td>\n",
              "      <td>0</td>\n",
              "      <td>0</td>\n",
              "      <td>0</td>\n",
              "      <td>1</td>\n",
              "      <td>0</td>\n",
              "      <td>0</td>\n",
              "      <td>0</td>\n",
              "      <td>0</td>\n",
              "      <td>0</td>\n",
              "      <td>1</td>\n",
              "      <td>0</td>\n",
              "      <td>0</td>\n",
              "      <td>1</td>\n",
              "      <td>0</td>\n",
              "      <td>...</td>\n",
              "      <td>0</td>\n",
              "      <td>0</td>\n",
              "      <td>1</td>\n",
              "      <td>0</td>\n",
              "      <td>0</td>\n",
              "      <td>1</td>\n",
              "      <td>0</td>\n",
              "      <td>0</td>\n",
              "      <td>1</td>\n",
              "      <td>0</td>\n",
              "      <td>0</td>\n",
              "      <td>0</td>\n",
              "      <td>0</td>\n",
              "      <td>0</td>\n",
              "      <td>0</td>\n",
              "      <td>1</td>\n",
              "      <td>0</td>\n",
              "      <td>1</td>\n",
              "      <td>0</td>\n",
              "      <td>0</td>\n",
              "      <td>0</td>\n",
              "      <td>0</td>\n",
              "      <td>1</td>\n",
              "      <td>0</td>\n",
              "      <td>0</td>\n",
              "      <td>1</td>\n",
              "      <td>0</td>\n",
              "      <td>0</td>\n",
              "      <td>0</td>\n",
              "      <td>1</td>\n",
              "      <td>0</td>\n",
              "      <td>0</td>\n",
              "      <td>1</td>\n",
              "      <td>0</td>\n",
              "      <td>0</td>\n",
              "      <td>0</td>\n",
              "      <td>1</td>\n",
              "      <td>0</td>\n",
              "      <td>0</td>\n",
              "      <td>0</td>\n",
              "    </tr>\n",
              "    <tr>\n",
              "      <th>1</th>\n",
              "      <td>0</td>\n",
              "      <td>0</td>\n",
              "      <td>1</td>\n",
              "      <td>0</td>\n",
              "      <td>0</td>\n",
              "      <td>0</td>\n",
              "      <td>0</td>\n",
              "      <td>1</td>\n",
              "      <td>1</td>\n",
              "      <td>0</td>\n",
              "      <td>0</td>\n",
              "      <td>0</td>\n",
              "      <td>0</td>\n",
              "      <td>1</td>\n",
              "      <td>0</td>\n",
              "      <td>0</td>\n",
              "      <td>0</td>\n",
              "      <td>0</td>\n",
              "      <td>0</td>\n",
              "      <td>1</td>\n",
              "      <td>1</td>\n",
              "      <td>0</td>\n",
              "      <td>0</td>\n",
              "      <td>0</td>\n",
              "      <td>0</td>\n",
              "      <td>0</td>\n",
              "      <td>1</td>\n",
              "      <td>0</td>\n",
              "      <td>1</td>\n",
              "      <td>0</td>\n",
              "      <td>0</td>\n",
              "      <td>0</td>\n",
              "      <td>0</td>\n",
              "      <td>0</td>\n",
              "      <td>1</td>\n",
              "      <td>0</td>\n",
              "      <td>1</td>\n",
              "      <td>0</td>\n",
              "      <td>0</td>\n",
              "      <td>0</td>\n",
              "      <td>...</td>\n",
              "      <td>0</td>\n",
              "      <td>1</td>\n",
              "      <td>0</td>\n",
              "      <td>0</td>\n",
              "      <td>0</td>\n",
              "      <td>1</td>\n",
              "      <td>0</td>\n",
              "      <td>0</td>\n",
              "      <td>1</td>\n",
              "      <td>0</td>\n",
              "      <td>0</td>\n",
              "      <td>0</td>\n",
              "      <td>0</td>\n",
              "      <td>1</td>\n",
              "      <td>0</td>\n",
              "      <td>0</td>\n",
              "      <td>0</td>\n",
              "      <td>1</td>\n",
              "      <td>0</td>\n",
              "      <td>0</td>\n",
              "      <td>0</td>\n",
              "      <td>1</td>\n",
              "      <td>0</td>\n",
              "      <td>0</td>\n",
              "      <td>0</td>\n",
              "      <td>0</td>\n",
              "      <td>1</td>\n",
              "      <td>0</td>\n",
              "      <td>0</td>\n",
              "      <td>0</td>\n",
              "      <td>1</td>\n",
              "      <td>0</td>\n",
              "      <td>0</td>\n",
              "      <td>1</td>\n",
              "      <td>0</td>\n",
              "      <td>0</td>\n",
              "      <td>0</td>\n",
              "      <td>0</td>\n",
              "      <td>1</td>\n",
              "      <td>0</td>\n",
              "    </tr>\n",
              "    <tr>\n",
              "      <th>2</th>\n",
              "      <td>1</td>\n",
              "      <td>0</td>\n",
              "      <td>0</td>\n",
              "      <td>0</td>\n",
              "      <td>1</td>\n",
              "      <td>0</td>\n",
              "      <td>0</td>\n",
              "      <td>0</td>\n",
              "      <td>0</td>\n",
              "      <td>0</td>\n",
              "      <td>0</td>\n",
              "      <td>1</td>\n",
              "      <td>0</td>\n",
              "      <td>0</td>\n",
              "      <td>0</td>\n",
              "      <td>1</td>\n",
              "      <td>0</td>\n",
              "      <td>0</td>\n",
              "      <td>1</td>\n",
              "      <td>0</td>\n",
              "      <td>0</td>\n",
              "      <td>0</td>\n",
              "      <td>0</td>\n",
              "      <td>1</td>\n",
              "      <td>0</td>\n",
              "      <td>0</td>\n",
              "      <td>1</td>\n",
              "      <td>0</td>\n",
              "      <td>1</td>\n",
              "      <td>0</td>\n",
              "      <td>0</td>\n",
              "      <td>0</td>\n",
              "      <td>0</td>\n",
              "      <td>0</td>\n",
              "      <td>0</td>\n",
              "      <td>1</td>\n",
              "      <td>0</td>\n",
              "      <td>0</td>\n",
              "      <td>1</td>\n",
              "      <td>0</td>\n",
              "      <td>...</td>\n",
              "      <td>0</td>\n",
              "      <td>0</td>\n",
              "      <td>0</td>\n",
              "      <td>1</td>\n",
              "      <td>1</td>\n",
              "      <td>0</td>\n",
              "      <td>0</td>\n",
              "      <td>0</td>\n",
              "      <td>1</td>\n",
              "      <td>0</td>\n",
              "      <td>0</td>\n",
              "      <td>0</td>\n",
              "      <td>0</td>\n",
              "      <td>1</td>\n",
              "      <td>0</td>\n",
              "      <td>0</td>\n",
              "      <td>1</td>\n",
              "      <td>0</td>\n",
              "      <td>0</td>\n",
              "      <td>0</td>\n",
              "      <td>1</td>\n",
              "      <td>0</td>\n",
              "      <td>0</td>\n",
              "      <td>0</td>\n",
              "      <td>1</td>\n",
              "      <td>0</td>\n",
              "      <td>0</td>\n",
              "      <td>0</td>\n",
              "      <td>0</td>\n",
              "      <td>1</td>\n",
              "      <td>0</td>\n",
              "      <td>0</td>\n",
              "      <td>0</td>\n",
              "      <td>0</td>\n",
              "      <td>0</td>\n",
              "      <td>1</td>\n",
              "      <td>0</td>\n",
              "      <td>1</td>\n",
              "      <td>0</td>\n",
              "      <td>0</td>\n",
              "    </tr>\n",
              "    <tr>\n",
              "      <th>3</th>\n",
              "      <td>0</td>\n",
              "      <td>0</td>\n",
              "      <td>0</td>\n",
              "      <td>1</td>\n",
              "      <td>0</td>\n",
              "      <td>1</td>\n",
              "      <td>0</td>\n",
              "      <td>0</td>\n",
              "      <td>0</td>\n",
              "      <td>0</td>\n",
              "      <td>1</td>\n",
              "      <td>0</td>\n",
              "      <td>1</td>\n",
              "      <td>0</td>\n",
              "      <td>0</td>\n",
              "      <td>0</td>\n",
              "      <td>0</td>\n",
              "      <td>0</td>\n",
              "      <td>0</td>\n",
              "      <td>1</td>\n",
              "      <td>1</td>\n",
              "      <td>0</td>\n",
              "      <td>0</td>\n",
              "      <td>0</td>\n",
              "      <td>1</td>\n",
              "      <td>0</td>\n",
              "      <td>0</td>\n",
              "      <td>0</td>\n",
              "      <td>0</td>\n",
              "      <td>0</td>\n",
              "      <td>0</td>\n",
              "      <td>1</td>\n",
              "      <td>0</td>\n",
              "      <td>0</td>\n",
              "      <td>0</td>\n",
              "      <td>1</td>\n",
              "      <td>1</td>\n",
              "      <td>0</td>\n",
              "      <td>0</td>\n",
              "      <td>0</td>\n",
              "      <td>...</td>\n",
              "      <td>0</td>\n",
              "      <td>0</td>\n",
              "      <td>0</td>\n",
              "      <td>1</td>\n",
              "      <td>0</td>\n",
              "      <td>1</td>\n",
              "      <td>0</td>\n",
              "      <td>0</td>\n",
              "      <td>0</td>\n",
              "      <td>1</td>\n",
              "      <td>0</td>\n",
              "      <td>0</td>\n",
              "      <td>0</td>\n",
              "      <td>0</td>\n",
              "      <td>1</td>\n",
              "      <td>0</td>\n",
              "      <td>0</td>\n",
              "      <td>0</td>\n",
              "      <td>0</td>\n",
              "      <td>1</td>\n",
              "      <td>0</td>\n",
              "      <td>0</td>\n",
              "      <td>1</td>\n",
              "      <td>0</td>\n",
              "      <td>0</td>\n",
              "      <td>0</td>\n",
              "      <td>1</td>\n",
              "      <td>0</td>\n",
              "      <td>0</td>\n",
              "      <td>0</td>\n",
              "      <td>0</td>\n",
              "      <td>1</td>\n",
              "      <td>1</td>\n",
              "      <td>0</td>\n",
              "      <td>0</td>\n",
              "      <td>0</td>\n",
              "      <td>0</td>\n",
              "      <td>0</td>\n",
              "      <td>1</td>\n",
              "      <td>0</td>\n",
              "    </tr>\n",
              "    <tr>\n",
              "      <th>4</th>\n",
              "      <td>1</td>\n",
              "      <td>0</td>\n",
              "      <td>0</td>\n",
              "      <td>0</td>\n",
              "      <td>0</td>\n",
              "      <td>0</td>\n",
              "      <td>1</td>\n",
              "      <td>0</td>\n",
              "      <td>0</td>\n",
              "      <td>0</td>\n",
              "      <td>1</td>\n",
              "      <td>0</td>\n",
              "      <td>0</td>\n",
              "      <td>0</td>\n",
              "      <td>1</td>\n",
              "      <td>0</td>\n",
              "      <td>0</td>\n",
              "      <td>0</td>\n",
              "      <td>1</td>\n",
              "      <td>0</td>\n",
              "      <td>0</td>\n",
              "      <td>1</td>\n",
              "      <td>0</td>\n",
              "      <td>0</td>\n",
              "      <td>1</td>\n",
              "      <td>0</td>\n",
              "      <td>0</td>\n",
              "      <td>0</td>\n",
              "      <td>1</td>\n",
              "      <td>0</td>\n",
              "      <td>0</td>\n",
              "      <td>0</td>\n",
              "      <td>0</td>\n",
              "      <td>0</td>\n",
              "      <td>1</td>\n",
              "      <td>0</td>\n",
              "      <td>0</td>\n",
              "      <td>0</td>\n",
              "      <td>1</td>\n",
              "      <td>0</td>\n",
              "      <td>...</td>\n",
              "      <td>0</td>\n",
              "      <td>1</td>\n",
              "      <td>0</td>\n",
              "      <td>0</td>\n",
              "      <td>0</td>\n",
              "      <td>1</td>\n",
              "      <td>0</td>\n",
              "      <td>0</td>\n",
              "      <td>0</td>\n",
              "      <td>0</td>\n",
              "      <td>1</td>\n",
              "      <td>0</td>\n",
              "      <td>0</td>\n",
              "      <td>0</td>\n",
              "      <td>0</td>\n",
              "      <td>1</td>\n",
              "      <td>0</td>\n",
              "      <td>0</td>\n",
              "      <td>0</td>\n",
              "      <td>1</td>\n",
              "      <td>0</td>\n",
              "      <td>0</td>\n",
              "      <td>0</td>\n",
              "      <td>1</td>\n",
              "      <td>1</td>\n",
              "      <td>0</td>\n",
              "      <td>0</td>\n",
              "      <td>0</td>\n",
              "      <td>0</td>\n",
              "      <td>0</td>\n",
              "      <td>1</td>\n",
              "      <td>0</td>\n",
              "      <td>0</td>\n",
              "      <td>0</td>\n",
              "      <td>1</td>\n",
              "      <td>0</td>\n",
              "      <td>0</td>\n",
              "      <td>0</td>\n",
              "      <td>0</td>\n",
              "      <td>1</td>\n",
              "    </tr>\n",
              "  </tbody>\n",
              "</table>\n",
              "<p>5 rows × 228 columns</p>\n",
              "</div>"
            ],
            "text/plain": [
              "   0_a  0_c  0_g  0_t  1_a  1_c  1_g  ...  55_c  55_g  55_t  56_a  56_c  56_g  56_t\n",
              "0    0    0    0    1    0    0    1  ...     0     0     0     1     0     0     0\n",
              "1    0    0    1    0    0    0    0  ...     1     0     0     0     0     1     0\n",
              "2    1    0    0    0    1    0    0  ...     0     0     1     0     1     0     0\n",
              "3    0    0    0    1    0    1    0  ...     0     0     0     0     0     1     0\n",
              "4    1    0    0    0    0    0    1  ...     0     1     0     0     0     0     1\n",
              "\n",
              "[5 rows x 228 columns]"
            ]
          },
          "metadata": {
            "tags": []
          },
          "execution_count": 14
        }
      ]
    },
    {
      "cell_type": "markdown",
      "metadata": {
        "id": "TTwR-KkX77Ab"
      },
      "source": [
        "##Machine Learning Classification Techniques"
      ]
    },
    {
      "cell_type": "markdown",
      "metadata": {
        "id": "OdecXz-J8IdX"
      },
      "source": [
        "I have used three machine learning techniques to train the model \n",
        "1. K Nearest Neighbor classifier\n",
        "2. Linear SVM Classifier\n",
        "3. Kernal SVM"
      ]
    },
    {
      "cell_type": "code",
      "metadata": {
        "id": "Y6mvGVAdlanf"
      },
      "source": [
        "from sklearn.neighbors import KNeighborsClassifier\n",
        "from sklearn import svm\n",
        "from sklearn.metrics import classification_report, accuracy_score"
      ],
      "execution_count": 15,
      "outputs": []
    },
    {
      "cell_type": "code",
      "metadata": {
        "id": "nSu4GA3Ylanl"
      },
      "source": [
        "data = encoded_df.values"
      ],
      "execution_count": 16,
      "outputs": []
    },
    {
      "cell_type": "code",
      "metadata": {
        "id": "7Ba5b0fvlanp"
      },
      "source": [
        "from sklearn.model_selection import train_test_split"
      ],
      "execution_count": 17,
      "outputs": []
    },
    {
      "cell_type": "code",
      "metadata": {
        "id": "OULPIQ9vlanu"
      },
      "source": [
        "svm_linear = svm.SVC(kernel = 'linear')\n",
        "svm_kernel = svm.SVC(kernel = 'rbf')"
      ],
      "execution_count": 18,
      "outputs": []
    },
    {
      "cell_type": "code",
      "metadata": {
        "id": "uAlpwE-llan6"
      },
      "source": [
        "knn = KNeighborsClassifier(n_neighbors = 4)\n",
        "from sklearn.model_selection import KFold, cross_val_score\n",
        "\n",
        "def cross_validation_training(model, x, y):\n",
        "    folds = KFold(n_splits = 10, shuffle= True)\n",
        "    cross_validation = cross_val_score(model, x, y, cv = folds, scoring = 'accuracy')\n",
        "    return cross_validation.mean()"
      ],
      "execution_count": 19,
      "outputs": []
    },
    {
      "cell_type": "markdown",
      "metadata": {
        "id": "BOHro17elaoB"
      },
      "source": [
        "Accuracy of three model "
      ]
    },
    {
      "cell_type": "code",
      "metadata": {
        "id": "-nqg5eJjlaoC"
      },
      "source": [
        "svm_linear_cv_score = cross_validation_training(svm_linear, data , encoded_classes)\n"
      ],
      "execution_count": 20,
      "outputs": []
    },
    {
      "cell_type": "code",
      "metadata": {
        "id": "HpFYRo1ElaoH"
      },
      "source": [
        "svm_kernel_cv_score = cross_validation_training(svm_kernel, data , encoded_classes)"
      ],
      "execution_count": 21,
      "outputs": []
    },
    {
      "cell_type": "code",
      "metadata": {
        "id": "rK8Dw7XglaoM"
      },
      "source": [
        "knn_cv_score = cross_validation_training(knn, data , encoded_classes)"
      ],
      "execution_count": 22,
      "outputs": []
    },
    {
      "cell_type": "code",
      "metadata": {
        "id": "rfrjGRSblaoR",
        "outputId": "33bd3313-3c89-4d7c-eb40-76079897136e",
        "colab": {
          "base_uri": "https://localhost:8080/",
          "height": 34
        }
      },
      "source": [
        "results = [svm_linear_cv_score, svm_kernel_cv_score, knn_cv_score]\n",
        "results"
      ],
      "execution_count": 23,
      "outputs": [
        {
          "output_type": "execute_result",
          "data": {
            "text/plain": [
              "[0.9318181818181819, 0.9154545454545454, 0.8372727272727273]"
            ]
          },
          "metadata": {
            "tags": []
          },
          "execution_count": 23
        }
      ]
    },
    {
      "cell_type": "code",
      "metadata": {
        "id": "CPdPbYv0laoW"
      },
      "source": [
        "x_train, x_test, y_train, y_test = train_test_split(data, encoded_classes, test_size = 0.20, shuffle = True)"
      ],
      "execution_count": 24,
      "outputs": []
    },
    {
      "cell_type": "code",
      "metadata": {
        "id": "WitpQRf9laoc"
      },
      "source": [
        "def model_evaluation(model, train_features, train_labels, test_features, test_labels):\n",
        "    model.fit(train_features, train_labels)\n",
        "    pred_test_labels = model.predict(test_features)\n",
        "    print(accuracy_score(pred_test_labels, test_labels))\n",
        "    print(classification_report(pred_test_labels, test_labels))\n",
        "    "
      ],
      "execution_count": 25,
      "outputs": []
    },
    {
      "cell_type": "markdown",
      "metadata": {
        "id": "jy1PZkro8qED"
      },
      "source": [
        "Priniting the recision, recall, f1-score, support of all the models"
      ]
    },
    {
      "cell_type": "code",
      "metadata": {
        "id": "OS0shsY6laol",
        "outputId": "3c92526a-f319-419e-a9a5-17cf0e980a19",
        "colab": {
          "base_uri": "https://localhost:8080/",
          "height": 202
        }
      },
      "source": [
        "print(\"linear_svm_report\")\n",
        "model_evaluation(svm_linear, x_train, y_train, x_test, y_test)"
      ],
      "execution_count": 26,
      "outputs": [
        {
          "output_type": "stream",
          "text": [
            "linear_svm_report\n",
            "0.8571428571428571\n",
            "              precision    recall  f1-score   support\n",
            "\n",
            "           0       0.90      0.82      0.86        11\n",
            "           1       0.82      0.90      0.86        10\n",
            "\n",
            "    accuracy                           0.86        21\n",
            "   macro avg       0.86      0.86      0.86        21\n",
            "weighted avg       0.86      0.86      0.86        21\n",
            "\n"
          ],
          "name": "stdout"
        }
      ]
    },
    {
      "cell_type": "code",
      "metadata": {
        "id": "kPgF1JTYlaot",
        "outputId": "489afe95-2efd-4c46-c565-fc5e747803fd",
        "colab": {
          "base_uri": "https://localhost:8080/",
          "height": 202
        }
      },
      "source": [
        "print(\"kernel_svm_report\")\n",
        "model_evaluation(svm_kernel, x_train, y_train, x_test, y_test)"
      ],
      "execution_count": 27,
      "outputs": [
        {
          "output_type": "stream",
          "text": [
            "kernel_svm_report\n",
            "0.8571428571428571\n",
            "              precision    recall  f1-score   support\n",
            "\n",
            "           0       1.00      0.77      0.87        13\n",
            "           1       0.73      1.00      0.84         8\n",
            "\n",
            "    accuracy                           0.86        21\n",
            "   macro avg       0.86      0.88      0.86        21\n",
            "weighted avg       0.90      0.86      0.86        21\n",
            "\n"
          ],
          "name": "stdout"
        }
      ]
    },
    {
      "cell_type": "code",
      "metadata": {
        "id": "FDdAP7Dflao2",
        "outputId": "12c41ea3-28ad-4a72-dade-45781ab56bc6",
        "colab": {
          "base_uri": "https://localhost:8080/",
          "height": 202
        }
      },
      "source": [
        "print(\"KNN_report\")\n",
        "model_evaluation(knn, x_train, y_train, x_test, y_test)"
      ],
      "execution_count": 28,
      "outputs": [
        {
          "output_type": "stream",
          "text": [
            "KNN_report\n",
            "0.8095238095238095\n",
            "              precision    recall  f1-score   support\n",
            "\n",
            "           0       0.80      0.80      0.80        10\n",
            "           1       0.82      0.82      0.82        11\n",
            "\n",
            "    accuracy                           0.81        21\n",
            "   macro avg       0.81      0.81      0.81        21\n",
            "weighted avg       0.81      0.81      0.81        21\n",
            "\n"
          ],
          "name": "stdout"
        }
      ]
    },
    {
      "cell_type": "markdown",
      "metadata": {
        "id": "GP3WS12r818z"
      },
      "source": [
        "##Deep Learning Models\n",
        " I have used two Deep Learning models to train\n",
        " 1. Simple Sequential Network\n",
        " 2. Convolutional Neural Netwrok\n",
        " "
      ]
    },
    {
      "cell_type": "code",
      "metadata": {
        "id": "uH96C-QLl6Lc"
      },
      "source": [
        "import numpy\n",
        "from keras import Input\n",
        "from keras.datasets import imdb\n",
        "from keras.models import Sequential\n",
        "from keras.layers import Dense\n",
        "from keras.layers import LSTM\n",
        "from keras.layers.embeddings import Embedding\n",
        "from keras.preprocessing import sequence\n",
        "from keras.losses import BinaryCrossentropy\n"
      ],
      "execution_count": 29,
      "outputs": []
    },
    {
      "cell_type": "code",
      "metadata": {
        "id": "pgiPZajInA6R"
      },
      "source": [
        "x_train, x_test, y_train, y_test = train_test_split(data, encoded_classes, test_size = 0.20, shuffle = True)"
      ],
      "execution_count": 30,
      "outputs": []
    },
    {
      "cell_type": "code",
      "metadata": {
        "id": "wiMmu64TnvDQ"
      },
      "source": [
        "model = Sequential()\n",
        "model.add(Input(shape=(x_train.shape[1],)))\n",
        "model.add(Dense(100, activation='relu'))\n",
        "model.add(Dense(100, activation='relu'))\n",
        "model.add(Dense(100, activation='relu'))\n",
        "model.add(Dense(100, activation='relu'))\n",
        "model.add(Dense(200, activation='relu'))\n",
        "model.add(Dense(128, activation='relu'))\n",
        "model.add(Dense(1, activation='sigmoid'))\n"
      ],
      "execution_count": 31,
      "outputs": []
    },
    {
      "cell_type": "code",
      "metadata": {
        "id": "hKj3NqBWokMx"
      },
      "source": [
        "loss = BinaryCrossentropy()\n",
        "model.compile(optimizer='adam', loss = loss, metrics=['accuracy'])"
      ],
      "execution_count": 32,
      "outputs": []
    },
    {
      "cell_type": "code",
      "metadata": {
        "id": "lhMrYgOxonX6",
        "outputId": "a9c304e2-5db7-40df-a46c-ef5d416dfcf0",
        "colab": {
          "base_uri": "https://localhost:8080/",
          "height": 370
        }
      },
      "source": [
        "model.fit(x_train, np.array(y_train), epochs = 10, batch_size= 8)"
      ],
      "execution_count": 33,
      "outputs": [
        {
          "output_type": "stream",
          "text": [
            "Epoch 1/10\n",
            "11/11 [==============================] - 0s 3ms/step - loss: 0.6990 - accuracy: 0.5000\n",
            "Epoch 2/10\n",
            "11/11 [==============================] - 0s 2ms/step - loss: 0.5789 - accuracy: 0.9286\n",
            "Epoch 3/10\n",
            "11/11 [==============================] - 0s 2ms/step - loss: 0.2199 - accuracy: 0.9524\n",
            "Epoch 4/10\n",
            "11/11 [==============================] - 0s 3ms/step - loss: 0.0334 - accuracy: 0.9881\n",
            "Epoch 5/10\n",
            "11/11 [==============================] - 0s 3ms/step - loss: 0.0274 - accuracy: 0.9762\n",
            "Epoch 6/10\n",
            "11/11 [==============================] - 0s 3ms/step - loss: 0.0171 - accuracy: 1.0000\n",
            "Epoch 7/10\n",
            "11/11 [==============================] - 0s 3ms/step - loss: 0.0103 - accuracy: 0.9881\n",
            "Epoch 8/10\n",
            "11/11 [==============================] - 0s 2ms/step - loss: 3.2323e-04 - accuracy: 1.0000\n",
            "Epoch 9/10\n",
            "11/11 [==============================] - 0s 2ms/step - loss: 4.3601e-04 - accuracy: 1.0000\n",
            "Epoch 10/10\n",
            "11/11 [==============================] - 0s 3ms/step - loss: 3.2872e-04 - accuracy: 1.0000\n"
          ],
          "name": "stdout"
        },
        {
          "output_type": "execute_result",
          "data": {
            "text/plain": [
              "<tensorflow.python.keras.callbacks.History at 0x7f8f701df828>"
            ]
          },
          "metadata": {
            "tags": []
          },
          "execution_count": 33
        }
      ]
    },
    {
      "cell_type": "markdown",
      "metadata": {
        "id": "JDFmfFfl9Gys"
      },
      "source": [
        "Accuracy of simple sequential network"
      ]
    },
    {
      "cell_type": "code",
      "metadata": {
        "id": "Q_LFakLnorWn",
        "outputId": "24e2cd2b-3831-453a-b958-1f008bc76d27",
        "colab": {
          "base_uri": "https://localhost:8080/",
          "height": 34
        }
      },
      "source": [
        "score = model.evaluate(x_test, np.array(y_test), verbose=0)\n",
        "print(f'Test loss: {score[0]} / Test accuracy: {score[1]}')"
      ],
      "execution_count": 34,
      "outputs": [
        {
          "output_type": "stream",
          "text": [
            "Test loss: 0.6839235424995422 / Test accuracy: 0.8095238208770752\n"
          ],
          "name": "stdout"
        }
      ]
    },
    {
      "cell_type": "code",
      "metadata": {
        "id": "xm9tQXjHnlBz",
        "outputId": "cd63acef-cbf1-4531-bfff-03feb53e9bf2",
        "colab": {
          "base_uri": "https://localhost:8080/",
          "height": 168
        }
      },
      "source": [
        "predicted_labels = model.predict(x_test)\n",
        "test_labels = []\n",
        "for each in predicted_labels:\n",
        "  if each > 0.5:\n",
        "    test_labels.append(1)\n",
        "  else:\n",
        "    test_labels.append(0)\n",
        "\n",
        "print(classification_report(test_labels, np.array(y_test)))"
      ],
      "execution_count": 35,
      "outputs": [
        {
          "output_type": "stream",
          "text": [
            "              precision    recall  f1-score   support\n",
            "\n",
            "           0       0.70      0.88      0.78         8\n",
            "           1       0.91      0.77      0.83        13\n",
            "\n",
            "    accuracy                           0.81        21\n",
            "   macro avg       0.80      0.82      0.81        21\n",
            "weighted avg       0.83      0.81      0.81        21\n",
            "\n"
          ],
          "name": "stdout"
        }
      ]
    },
    {
      "cell_type": "code",
      "metadata": {
        "id": "6abWYdmZpSGP",
        "outputId": "30e44f9b-45b2-418a-e5f1-4afa9935b2fe",
        "colab": {
          "base_uri": "https://localhost:8080/",
          "height": 34
        }
      },
      "source": [
        "x_train.shape"
      ],
      "execution_count": 36,
      "outputs": [
        {
          "output_type": "execute_result",
          "data": {
            "text/plain": [
              "(84, 228)"
            ]
          },
          "metadata": {
            "tags": []
          },
          "execution_count": 36
        }
      ]
    },
    {
      "cell_type": "code",
      "metadata": {
        "id": "zAhQSLhPsHPT",
        "outputId": "65d1e951-cddc-447b-d5f3-acd67671625b",
        "colab": {
          "base_uri": "https://localhost:8080/",
          "height": 34
        }
      },
      "source": [
        "x_test.shape"
      ],
      "execution_count": 37,
      "outputs": [
        {
          "output_type": "execute_result",
          "data": {
            "text/plain": [
              "(21, 228)"
            ]
          },
          "metadata": {
            "tags": []
          },
          "execution_count": 37
        }
      ]
    },
    {
      "cell_type": "code",
      "metadata": {
        "id": "wrFnLZOJpTJ1"
      },
      "source": [
        "x_train = x_train.reshape(84,19,12,1)\n",
        "x_test = x_test.reshape(21,19,12,1)"
      ],
      "execution_count": 38,
      "outputs": []
    },
    {
      "cell_type": "markdown",
      "metadata": {
        "id": "JHgTXk0s9N8Z"
      },
      "source": [
        "Convolutional Neural Network"
      ]
    },
    {
      "cell_type": "code",
      "metadata": {
        "id": "F5xuiUzWvpLM"
      },
      "source": [
        "from keras import datasets, layers, models\n",
        "from keras.layers import LeakyReLU"
      ],
      "execution_count": 39,
      "outputs": []
    },
    {
      "cell_type": "code",
      "metadata": {
        "id": "bLj1f85lva-p"
      },
      "source": [
        "model = models.Sequential()\n",
        "model.add(layers.Conv2D(32, (3, 2), activation='relu', input_shape=(19,12,1)))\n",
        "model.add(layers.MaxPooling2D((2, 2)))\n",
        "model.add(layers.Flatten())\n",
        "model.add(layers.Dense(64, activation='relu'))\n",
        "model.add(layers.Dense(100,activation=LeakyReLU(alpha=0.1)))\n",
        "model.add(layers.Dense(100, activation=LeakyReLU(alpha=0.1)))\n",
        "model.add(layers.Dense(64, activation='relu'))\n",
        "model.add(layers.Dense(1,activation=\"sigmoid\"))"
      ],
      "execution_count": 40,
      "outputs": []
    },
    {
      "cell_type": "code",
      "metadata": {
        "id": "ik-BpiIgwxFO",
        "outputId": "8bfe7dbb-17c4-434d-85a9-7fcbcd797d1d",
        "colab": {
          "base_uri": "https://localhost:8080/",
          "height": 420
        }
      },
      "source": [
        "model.summary()"
      ],
      "execution_count": 41,
      "outputs": [
        {
          "output_type": "stream",
          "text": [
            "Model: \"sequential_1\"\n",
            "_________________________________________________________________\n",
            "Layer (type)                 Output Shape              Param #   \n",
            "=================================================================\n",
            "conv2d (Conv2D)              (None, 17, 11, 32)        224       \n",
            "_________________________________________________________________\n",
            "max_pooling2d (MaxPooling2D) (None, 8, 5, 32)          0         \n",
            "_________________________________________________________________\n",
            "flatten (Flatten)            (None, 1280)              0         \n",
            "_________________________________________________________________\n",
            "dense_7 (Dense)              (None, 64)                81984     \n",
            "_________________________________________________________________\n",
            "dense_8 (Dense)              (None, 100)               6500      \n",
            "_________________________________________________________________\n",
            "dense_9 (Dense)              (None, 100)               10100     \n",
            "_________________________________________________________________\n",
            "dense_10 (Dense)             (None, 64)                6464      \n",
            "_________________________________________________________________\n",
            "dense_11 (Dense)             (None, 1)                 65        \n",
            "=================================================================\n",
            "Total params: 105,337\n",
            "Trainable params: 105,337\n",
            "Non-trainable params: 0\n",
            "_________________________________________________________________\n"
          ],
          "name": "stdout"
        }
      ]
    },
    {
      "cell_type": "code",
      "metadata": {
        "id": "cQTWejj-yXDV"
      },
      "source": [
        "loss = BinaryCrossentropy()\n",
        "model.compile(optimizer='adam', loss = loss, metrics=['accuracy'])"
      ],
      "execution_count": 42,
      "outputs": []
    },
    {
      "cell_type": "code",
      "metadata": {
        "id": "tEiTWBqqykWT",
        "outputId": "1daf6b90-9040-4d91-a1a9-7549ca8da32e",
        "colab": {
          "base_uri": "https://localhost:8080/",
          "height": 706
        }
      },
      "source": [
        "model.fit(x_train, np.array(y_train), epochs = 20, batch_size= 8)"
      ],
      "execution_count": 43,
      "outputs": [
        {
          "output_type": "stream",
          "text": [
            "Epoch 1/20\n",
            "11/11 [==============================] - 0s 5ms/step - loss: 0.6945 - accuracy: 0.5000\n",
            "Epoch 2/20\n",
            "11/11 [==============================] - 0s 3ms/step - loss: 0.6402 - accuracy: 0.7262\n",
            "Epoch 3/20\n",
            "11/11 [==============================] - 0s 3ms/step - loss: 0.5129 - accuracy: 0.7143\n",
            "Epoch 4/20\n",
            "11/11 [==============================] - 0s 3ms/step - loss: 0.3207 - accuracy: 0.9286\n",
            "Epoch 5/20\n",
            "11/11 [==============================] - 0s 3ms/step - loss: 0.1993 - accuracy: 0.9405\n",
            "Epoch 6/20\n",
            "11/11 [==============================] - 0s 3ms/step - loss: 0.0702 - accuracy: 0.9881\n",
            "Epoch 7/20\n",
            "11/11 [==============================] - 0s 3ms/step - loss: 0.0398 - accuracy: 1.0000\n",
            "Epoch 8/20\n",
            "11/11 [==============================] - 0s 3ms/step - loss: 0.0151 - accuracy: 1.0000\n",
            "Epoch 9/20\n",
            "11/11 [==============================] - 0s 3ms/step - loss: 0.0058 - accuracy: 1.0000\n",
            "Epoch 10/20\n",
            "11/11 [==============================] - 0s 3ms/step - loss: 0.0029 - accuracy: 1.0000\n",
            "Epoch 11/20\n",
            "11/11 [==============================] - 0s 3ms/step - loss: 0.0018 - accuracy: 1.0000\n",
            "Epoch 12/20\n",
            "11/11 [==============================] - 0s 3ms/step - loss: 0.0014 - accuracy: 1.0000\n",
            "Epoch 13/20\n",
            "11/11 [==============================] - 0s 3ms/step - loss: 0.0012 - accuracy: 1.0000\n",
            "Epoch 14/20\n",
            "11/11 [==============================] - 0s 3ms/step - loss: 9.1477e-04 - accuracy: 1.0000\n",
            "Epoch 15/20\n",
            "11/11 [==============================] - 0s 3ms/step - loss: 7.2874e-04 - accuracy: 1.0000\n",
            "Epoch 16/20\n",
            "11/11 [==============================] - 0s 3ms/step - loss: 6.3460e-04 - accuracy: 1.0000\n",
            "Epoch 17/20\n",
            "11/11 [==============================] - 0s 3ms/step - loss: 5.6607e-04 - accuracy: 1.0000\n",
            "Epoch 18/20\n",
            "11/11 [==============================] - 0s 3ms/step - loss: 5.2824e-04 - accuracy: 1.0000\n",
            "Epoch 19/20\n",
            "11/11 [==============================] - 0s 3ms/step - loss: 4.6352e-04 - accuracy: 1.0000\n",
            "Epoch 20/20\n",
            "11/11 [==============================] - 0s 3ms/step - loss: 4.1989e-04 - accuracy: 1.0000\n"
          ],
          "name": "stdout"
        },
        {
          "output_type": "execute_result",
          "data": {
            "text/plain": [
              "<tensorflow.python.keras.callbacks.History at 0x7f8fad49b198>"
            ]
          },
          "metadata": {
            "tags": []
          },
          "execution_count": 43
        }
      ]
    },
    {
      "cell_type": "markdown",
      "metadata": {
        "id": "XXienGQn9dej"
      },
      "source": [
        "Accuracy of Convolutional Neural Network"
      ]
    },
    {
      "cell_type": "code",
      "metadata": {
        "id": "-NoWOiaByznL",
        "outputId": "a9d7656f-fa83-4a19-9fe0-8d2d11bd555f",
        "colab": {
          "base_uri": "https://localhost:8080/",
          "height": 34
        }
      },
      "source": [
        "\n",
        "score = model.evaluate(x_test, np.array(y_test), verbose=0)\n",
        "print(f'Test loss: {score[0]} / Test accuracy: {score[1]}')"
      ],
      "execution_count": 44,
      "outputs": [
        {
          "output_type": "stream",
          "text": [
            "Test loss: 0.28310495615005493 / Test accuracy: 0.8571428656578064\n"
          ],
          "name": "stdout"
        }
      ]
    },
    {
      "cell_type": "code",
      "metadata": {
        "id": "qGeDUYI8rs0S",
        "outputId": "44f26b2b-8708-4f85-e939-cfd9e9af8d24",
        "colab": {
          "base_uri": "https://localhost:8080/",
          "height": 168
        }
      },
      "source": [
        "predicted_labels = model.predict(x_test)\n",
        "test_labels = []\n",
        "for each in predicted_labels:\n",
        "  if each > 0.5:\n",
        "    test_labels.append(1)\n",
        "  else:\n",
        "    test_labels.append(0)\n",
        "\n",
        "print(classification_report(test_labels, np.array(y_test)))"
      ],
      "execution_count": 45,
      "outputs": [
        {
          "output_type": "stream",
          "text": [
            "              precision    recall  f1-score   support\n",
            "\n",
            "           0       1.00      0.77      0.87        13\n",
            "           1       0.73      1.00      0.84         8\n",
            "\n",
            "    accuracy                           0.86        21\n",
            "   macro avg       0.86      0.88      0.86        21\n",
            "weighted avg       0.90      0.86      0.86        21\n",
            "\n"
          ],
          "name": "stdout"
        }
      ]
    },
    {
      "cell_type": "code",
      "metadata": {
        "id": "27Wl1rFmrt5V"
      },
      "source": [
        ""
      ],
      "execution_count": 45,
      "outputs": []
    }
  ]
}